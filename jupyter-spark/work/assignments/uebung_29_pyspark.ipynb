{
 "cells": [
  {
   "cell_type": "markdown",
   "id": "6bab6538",
   "metadata": {},
   "source": [
    "# Übung 2.9 Todesursachen\n",
    "Wie bereits in anderen Übungen besprochen, muss man zuerst wieder die Daten in das HDFS laden. Dazu habe ich wieder die Datei `death2016.csv` in das Volume des `namenode` Containers hineinkopiert, ich bin in das dazugehörende Verzeichnis in dem `namenode` Container hineingegangen mittels `docker exec -it namenode bash` und `cd /hadoop-data`, und schließlich habe ich die Daten in das HDFS mittels `hadoop fs -copyFromLocal death2016.csv workspace/pyspark` kopiert. Dabei muss natürlich sichergestellt sein, dass das Verzeichnis `workspace/pyspark` mittels `hadoop fs -mkdir -p /workspace/pyspark` vorher bereits erzeugt wurde."
   ]
  },
  {
   "cell_type": "markdown",
   "id": "f9297baa",
   "metadata": {},
   "source": [
    "## Initialisierung der Spark Session"
   ]
  },
  {
   "cell_type": "code",
   "execution_count": 1,
   "id": "da0709a7",
   "metadata": {},
   "outputs": [],
   "source": [
    "import pandas as pd\n",
    "import matplotlib.pyplot as plt\n",
    "from pyspark.sql.types import StructType, StructField, IntegerType, StringType, FloatType, BooleanType\n",
    "from pyspark.sql import SparkSession\n",
    "from pyspark.sql import Row\n",
    "from pyspark.sql import functions\n",
    "from pyspark.sql import dataframe\n",
    "from pyspark.sql.functions import to_timestamp, to_date, year, dayofweek, col, expr, lower\n",
    "from IPython.display import display"
   ]
  },
  {
   "cell_type": "code",
   "execution_count": 2,
   "id": "f595dd46",
   "metadata": {},
   "outputs": [],
   "source": [
    "# Spark session & context\n",
    "spark = SparkSession \\\n",
    "    .builder \\\n",
    "    .master('spark://spark-master:7077') \\\n",
    "    .appName(\"uebung_29\") \\\n",
    "    .config(\"spark.some.config.option\", \"some-value\") \\\n",
    "    .getOrCreate()\n",
    "sc = spark.sparkContext"
   ]
  },
  {
   "cell_type": "markdown",
   "id": "c92fe0c9",
   "metadata": {},
   "source": [
    "## Einlesen der deaths-Datei"
   ]
  },
  {
   "cell_type": "code",
   "execution_count": 3,
   "id": "d045746b",
   "metadata": {},
   "outputs": [
    {
     "name": "stdout",
     "output_type": "stream",
     "text": [
      "['country', 'cause_no', 'cause_name', 'sex', 'age', 'age_group', 'deaths_2000', 'low_2000', 'up_2000', 'deaths_2001', 'low_2001', 'up_2001', 'deaths_2002', 'low_2002', 'up_2002', 'deaths_2003', 'low_2003', 'up_2003', 'deaths_2004', 'low_2004', 'up_2004', 'deaths_2005', 'low_2005', 'up_2005', 'deaths_2006', 'low_2006', 'up_2006', 'deaths_2007', 'low_2007', 'up_2007', 'deaths_2008', 'low_2008', 'up_2008', 'deaths_2009', 'low_2009', 'up_2009', 'deaths_2010', 'low_2010', 'up_2010', 'deaths_2011', 'low_2011', 'up_2011', 'deaths_2012', 'low_2012', 'up_2012', 'deaths_2013', 'low_2013', 'up_2013', 'deaths_2014', 'low_2014', 'up_2014', 'deaths_2015', 'low_2015', 'up_2015', 'deaths_2016', 'low_2016', 'up_2016']\n"
     ]
    }
   ],
   "source": [
    "# Define schema of death file\n",
    "death_cols = [\n",
    "    StructField('country', StringType()),\n",
    "    StructField('cause_no', IntegerType()),\n",
    "    StructField('cause_name', StringType()),\n",
    "    StructField('sex', StringType()),\n",
    "    StructField('age', IntegerType()),\n",
    "    StructField('age_group', StringType()),\n",
    "]\n",
    "for year in range(2000, 2017):\n",
    "    death_low_up = [StructField(f'deaths_{year}', FloatType()),\n",
    "                    StructField(f'low_{year}', FloatType()),\n",
    "                    StructField(f'up_{year}', FloatType())]\n",
    "    death_cols += death_low_up\n",
    "    \n",
    "death_schema = StructType(death_cols)\n",
    "print(death_schema.fieldNames())"
   ]
  },
  {
   "cell_type": "code",
   "execution_count": 4,
   "id": "5def134c",
   "metadata": {
    "scrolled": false
   },
   "outputs": [
    {
     "name": "stdout",
     "output_type": "stream",
     "text": [
      "root\n",
      " |-- country: string (nullable = true)\n",
      " |-- cause_no: integer (nullable = true)\n",
      " |-- cause_name: string (nullable = true)\n",
      " |-- sex: string (nullable = true)\n",
      " |-- age: integer (nullable = true)\n",
      " |-- age_group: string (nullable = true)\n",
      " |-- deaths_2000: float (nullable = true)\n",
      " |-- low_2000: float (nullable = true)\n",
      " |-- up_2000: float (nullable = true)\n",
      " |-- deaths_2001: float (nullable = true)\n",
      " |-- low_2001: float (nullable = true)\n",
      " |-- up_2001: float (nullable = true)\n",
      " |-- deaths_2002: float (nullable = true)\n",
      " |-- low_2002: float (nullable = true)\n",
      " |-- up_2002: float (nullable = true)\n",
      " |-- deaths_2003: float (nullable = true)\n",
      " |-- low_2003: float (nullable = true)\n",
      " |-- up_2003: float (nullable = true)\n",
      " |-- deaths_2004: float (nullable = true)\n",
      " |-- low_2004: float (nullable = true)\n",
      " |-- up_2004: float (nullable = true)\n",
      " |-- deaths_2005: float (nullable = true)\n",
      " |-- low_2005: float (nullable = true)\n",
      " |-- up_2005: float (nullable = true)\n",
      " |-- deaths_2006: float (nullable = true)\n",
      " |-- low_2006: float (nullable = true)\n",
      " |-- up_2006: float (nullable = true)\n",
      " |-- deaths_2007: float (nullable = true)\n",
      " |-- low_2007: float (nullable = true)\n",
      " |-- up_2007: float (nullable = true)\n",
      " |-- deaths_2008: float (nullable = true)\n",
      " |-- low_2008: float (nullable = true)\n",
      " |-- up_2008: float (nullable = true)\n",
      " |-- deaths_2009: float (nullable = true)\n",
      " |-- low_2009: float (nullable = true)\n",
      " |-- up_2009: float (nullable = true)\n",
      " |-- deaths_2010: float (nullable = true)\n",
      " |-- low_2010: float (nullable = true)\n",
      " |-- up_2010: float (nullable = true)\n",
      " |-- deaths_2011: float (nullable = true)\n",
      " |-- low_2011: float (nullable = true)\n",
      " |-- up_2011: float (nullable = true)\n",
      " |-- deaths_2012: float (nullable = true)\n",
      " |-- low_2012: float (nullable = true)\n",
      " |-- up_2012: float (nullable = true)\n",
      " |-- deaths_2013: float (nullable = true)\n",
      " |-- low_2013: float (nullable = true)\n",
      " |-- up_2013: float (nullable = true)\n",
      " |-- deaths_2014: float (nullable = true)\n",
      " |-- low_2014: float (nullable = true)\n",
      " |-- up_2014: float (nullable = true)\n",
      " |-- deaths_2015: float (nullable = true)\n",
      " |-- low_2015: float (nullable = true)\n",
      " |-- up_2015: float (nullable = true)\n",
      " |-- deaths_2016: float (nullable = true)\n",
      " |-- low_2016: float (nullable = true)\n",
      " |-- up_2016: float (nullable = true)\n",
      "\n",
      "None\n",
      "+-------+--------+----------+----+---+---------+-----------+--------+--------+-----------+---------+--------+-----------+---------+--------+-----------+--------+--------+-----------+--------+-------+-----------+---------+--------+-----------+---------+-------+-----------+--------+---------+-----------+---------+--------+-----------+---------+---------+-----------+---------+--------+-----------+---------+-------+-----------+---------+--------+-----------+--------+--------+-----------+---------+-------+-----------+---------+-------+-----------+---------+--------+\n",
      "|country|cause_no|cause_name| sex|age|age_group|deaths_2000|low_2000| up_2000|deaths_2001| low_2001| up_2001|deaths_2002| low_2002| up_2002|deaths_2003|low_2003| up_2003|deaths_2004|low_2004|up_2004|deaths_2005| low_2005| up_2005|deaths_2006| low_2006|up_2006|deaths_2007|low_2007|  up_2007|deaths_2008| low_2008| up_2008|deaths_2009| low_2009|  up_2009|deaths_2010| low_2010| up_2010|deaths_2011| low_2011|up_2011|deaths_2012| low_2012| up_2012|deaths_2013|low_2013| up_2013|deaths_2014| low_2014|up_2014|deaths_2015| low_2015|up_2015|deaths_2016| low_2016| up_2016|\n",
      "+-------+--------+----------+----+---+---------+-----------+--------+--------+-----------+---------+--------+-----------+---------+--------+-----------+--------+--------+-----------+--------+-------+-----------+---------+--------+-----------+---------+-------+-----------+--------+---------+-----------+---------+--------+-----------+---------+---------+-----------+---------+--------+-----------+---------+-------+-----------+---------+--------+-----------+--------+--------+-----------+---------+-------+-----------+---------+-------+-----------+---------+--------+\n",
      "|    AFG|       0|All Causes|BTSX|  0| DAYS0-28|  60868.906|34246.64|90078.48|  61388.668|34790.637|91407.21|   61690.71|34614.418|91951.03|   61799.99|34357.53|92295.98|   61605.94|34040.51|91949.8|  61179.906|33562.926|91600.87|   60374.83|32761.854|90251.5|   59299.37|31961.84|88785.445|  57981.242|30966.725|87280.66|  56357.633|29882.412|85091.586|  54726.305|28686.979|82303.52|  52933.816|27421.086|80587.0|  51277.246|26259.059|79178.71|  49682.727|25241.94|78153.92|  48282.793|24284.793|76879.9|   46953.26|22766.672|76307.8|  45899.395|22255.672|74595.06|\n",
      "+-------+--------+----------+----+---+---------+-----------+--------+--------+-----------+---------+--------+-----------+---------+--------+-----------+--------+--------+-----------+--------+-------+-----------+---------+--------+-----------+---------+-------+-----------+--------+---------+-----------+---------+--------+-----------+---------+---------+-----------+---------+--------+-----------+---------+-------+-----------+---------+--------+-----------+--------+--------+-----------+---------+-------+-----------+---------+-------+-----------+---------+--------+\n",
      "only showing top 1 row\n",
      "\n",
      "None\n"
     ]
    }
   ],
   "source": [
    "# Read in death file with pre-defined schema\n",
    "file_path = 'hdfs://namenode:8020/user/root/workspace/pyspark/death2016.csv'\n",
    "deaths = spark.read.csv(file_path, death_schema)\n",
    "print(deaths.printSchema())\n",
    "print(deaths.show(1))"
   ]
  },
  {
   "cell_type": "markdown",
   "id": "04c24c4e",
   "metadata": {},
   "source": [
    "## Teilaufgabe 1\n",
    "Todesursache mit Anzahl an Todesfällen.\n",
    "\n",
    "Ich gehe davon aus, dass wie in der Vorlesung, die Todesfälle in Deutschland über alle Jahre hinweg gemeint sind. "
   ]
  },
  {
   "cell_type": "code",
   "execution_count": 5,
   "id": "442495ca",
   "metadata": {},
   "outputs": [],
   "source": [
    "# Creating a temporary view so that we can execute SparkQL statements\n",
    "deaths.createOrReplaceTempView('deaths')"
   ]
  },
  {
   "cell_type": "code",
   "execution_count": 6,
   "id": "7a5192e8",
   "metadata": {
    "scrolled": true
   },
   "outputs": [
    {
     "data": {
      "text/plain": [
       "['deaths_2000',\n",
       " 'deaths_2001',\n",
       " 'deaths_2002',\n",
       " 'deaths_2003',\n",
       " 'deaths_2004',\n",
       " 'deaths_2005',\n",
       " 'deaths_2006',\n",
       " 'deaths_2007',\n",
       " 'deaths_2008',\n",
       " 'deaths_2009',\n",
       " 'deaths_2010',\n",
       " 'deaths_2011',\n",
       " 'deaths_2012',\n",
       " 'deaths_2013',\n",
       " 'deaths_2014',\n",
       " 'deaths_2015',\n",
       " 'deaths_2016']"
      ]
     },
     "execution_count": 6,
     "metadata": {},
     "output_type": "execute_result"
    }
   ],
   "source": [
    "# Function that returns column names of certain death numbers for all years\n",
    "def get_death_cols(col='deaths'):\n",
    "    return [f'{col}_{year}' for year in range(2000, 2017)]\n",
    "\n",
    "get_death_cols()"
   ]
  },
  {
   "cell_type": "code",
   "execution_count": 7,
   "id": "9c113bbc",
   "metadata": {},
   "outputs": [
    {
     "data": {
      "text/plain": [
       "'deaths_2000 + deaths_2001 + deaths_2002 + deaths_2003 + deaths_2004 + deaths_2005 + deaths_2006 + deaths_2007 + deaths_2008 + deaths_2009 + deaths_2010 + deaths_2011 + deaths_2012 + deaths_2013 + deaths_2014 + deaths_2015 + deaths_2016'"
      ]
     },
     "execution_count": 7,
     "metadata": {},
     "output_type": "execute_result"
    }
   ],
   "source": [
    "# Function that creates an summation expression of all death columns\n",
    "def get_death_expr(col='deaths', operator='+'):\n",
    "    death_cols = get_death_cols(col)\n",
    "    expr = f' {operator} '.join(death_cols)\n",
    "    return expr\n",
    "\n",
    "get_death_expr()"
   ]
  },
  {
   "cell_type": "code",
   "execution_count": 8,
   "id": "36dcbd16",
   "metadata": {},
   "outputs": [
    {
     "name": "stdout",
     "output_type": "stream",
     "text": [
      "SparkQL statement: select cause_name, sum(deaths_2000 + deaths_2001 + deaths_2002 + deaths_2003 + deaths_2004 + deaths_2005 + deaths_2006 + deaths_2007 + deaths_2008 + deaths_2009 + deaths_2010 + deaths_2011 + deaths_2012 + deaths_2013 + deaths_2014 + deaths_2015 + deaths_2016) as total from deaths where country = \"DEU\" group by cause_name order by total desc;\n",
      "+--------------------+--------------------+\n",
      "|          cause_name|               total|\n",
      "+--------------------+--------------------+\n",
      "|          All Causes|1.4551129185058594E7|\n",
      "|Noncommunicable d...|1.3325673312011719E7|\n",
      "|Cardiovascular di...|    6070731.26240921|\n",
      "| Malignant neoplasms|   3786898.846229553|\n",
      "|Ischaemic heart d...|   3556194.562406063|\n",
      "|              Stroke|  1135246.9709677696|\n",
      "|Other circulatory...|   888717.4789266586|\n",
      "|Respiratory diseases|   875449.3753051758|\n",
      "|Trachea; bronchus...|    738239.602329731|\n",
      "|  Digestive diseases|   737520.3945465088|\n",
      "|Chronic obstructi...|   711904.0276870728|\n",
      "|    Ischaemic stroke|   681536.0698115826|\n",
      "|Communicable; mat...|   656817.6657104492|\n",
      "|Neurological cond...|     642689.35828197|\n",
      "|            Injuries|   568638.2004394531|\n",
      "|Colon and rectum ...|   511490.6223897934|\n",
      "| Haemorrhagic stroke|  453710.94087934494|\n",
      "|   Diabetes mellitus|    404191.826438427|\n",
      "|Respiratory infec...|  398004.56506347656|\n",
      "|Lower respiratory...|  394641.04653930664|\n",
      "+--------------------+--------------------+\n",
      "only showing top 20 rows\n",
      "\n"
     ]
    }
   ],
   "source": [
    "# Create an SparkQL statement with the death columns\n",
    "death_cols_str = get_death_expr()\n",
    "stmt = (f'select cause_name, sum({death_cols_str}) as total '\n",
    "       'from deaths where country = \"DEU\" '\n",
    "        'group by cause_name '\n",
    "       'order by total desc;')\n",
    "print('SparkQL statement:', stmt)\n",
    "\n",
    "# Execute the SparkQL statement\n",
    "death_cause_ger = spark.sql(stmt)\n",
    "death_cause_ger.show()"
   ]
  },
  {
   "cell_type": "markdown",
   "id": "c2af78c8",
   "metadata": {},
   "source": [
    "## Teilaufgabe 2\n",
    "Todesursache mit Anzahl Todesfällen im Jahr 2016 absteigend sortiert nach Todesursache.\n",
    "\n",
    "Ich gehe davon aus, dass wiederum die Anzahl Todesfälle in Deutschland gemeint sind. Außerdem scheint es mir sinnvoller nach der *Anzahl* an Todesfällen zu sortieren, anstatt nach den *Namen* der Todesursachen."
   ]
  },
  {
   "cell_type": "code",
   "execution_count": 9,
   "id": "f7f98df0",
   "metadata": {},
   "outputs": [
    {
     "name": "stdout",
     "output_type": "stream",
     "text": [
      "+--------------------+------------------+\n",
      "|          cause_name|       deaths_2016|\n",
      "+--------------------+------------------+\n",
      "|          All Causes| 920556.6735839844|\n",
      "|Noncommunicable d...| 839535.8052215576|\n",
      "|Cardiovascular di...|343530.82811903954|\n",
      "| Malignant neoplasms|235379.45161151886|\n",
      "|Ischaemic heart d...|  191912.831159126|\n",
      "|Neurological cond...| 72568.20000190288|\n",
      "|Other circulatory...| 59006.17331010103|\n",
      "|Respiratory diseases|58838.875165462494|\n",
      "|              Stroke|58306.235140547156|\n",
      "|Alzheimer disease...| 48769.67004454136|\n",
      "|Chronic obstructi...|48208.593697309494|\n",
      "|Trachea; bronchus...|47131.487330913544|\n",
      "|Communicable; mat...| 44314.14274406433|\n",
      "|  Digestive diseases| 40566.07289594412|\n",
      "|            Injuries| 36706.71230316162|\n",
      "|    Ischaemic stroke| 35402.90802706033|\n",
      "|Genitourinary dis...|29864.502741485834|\n",
      "|Colon and rectum ...|28808.684104919434|\n",
      "|Unintentional inj...|24941.597425460815|\n",
      "|   Diabetes mellitus|24763.661523155868|\n",
      "+--------------------+------------------+\n",
      "only showing top 20 rows\n",
      "\n"
     ]
    }
   ],
   "source": [
    "# Filtering for all rows in Germany\n",
    "deaths_de = deaths.filter(deaths['country'] == 'DEU')\n",
    "\n",
    "# Filtering for all deaths in 2016\n",
    "deaths_de = deaths_de.filter(deaths['deaths_2016'] > 0)\n",
    "\n",
    "# Selecting all relevant columns\n",
    "deaths_de = deaths_de.select('cause_name', 'deaths_2016')\n",
    "\n",
    "# Group by death cause\n",
    "deaths_de = deaths_de.groupBy('cause_name')\n",
    "\n",
    "# Summing up all deaths per death cause\n",
    "deaths_de = deaths_de.sum('deaths_2016')\n",
    "\n",
    "# Rename summed up column\n",
    "deaths_de = deaths_de.withColumnRenamed('sum(deaths_2016)', 'deaths_2016')\n",
    "\n",
    "# Sort by sum of deaths\n",
    "deaths_de = deaths_de.orderBy('deaths_2016', ascending=False)\n",
    "deaths_de = deaths_de.show()"
   ]
  },
  {
   "cell_type": "markdown",
   "id": "e5a4a478",
   "metadata": {},
   "source": [
    "## Teilaufgabe 3\n",
    "Erstellen Sie folgende Grafik bezogen auf die Todesursache 0 (Gesamtfälle).\n",
    "\n",
    "Die Grafik bezieht sich auf Deutschland, also werde ich wie vorher die Ergebnismenge auf Deutschland einschränken. Folgende Erklärungen zu den Spaltennamen:\n",
    "\n",
    "- Die `deaths_<year>` Spalten sind die Spalten, die tatsächlichen Todesfälle beinhalten\n",
    "- Die `up_<year>` Spalten sind die Spalten, die die maximale Schätzung an Todesfällen beinhalten\n",
    "- Die `low_<year>` Spalten sind die Spalten, die die minimale Schätzung an Todesfällen beinhalten"
   ]
  },
  {
   "cell_type": "code",
   "execution_count": 10,
   "id": "4917e3e8",
   "metadata": {},
   "outputs": [],
   "source": [
    "# Create a function that extracts the year string from the colum name\n",
    "# In this exercise all consecutive integers are assumed to constitute a year\n",
    "def extract_year(col_name):\n",
    "    year = ''\n",
    "    for char in col_name:\n",
    "        if char.isdigit():\n",
    "            year += char\n",
    "    return year"
   ]
  },
  {
   "cell_type": "code",
   "execution_count": 11,
   "id": "dff985bf",
   "metadata": {},
   "outputs": [
    {
     "data": {
      "text/plain": [
       "'2016'"
      ]
     },
     "execution_count": 11,
     "metadata": {},
     "output_type": "execute_result"
    }
   ],
   "source": [
    "extract_year('sum(up_2016)')"
   ]
  },
  {
   "cell_type": "code",
   "execution_count": 12,
   "id": "faf03f52",
   "metadata": {},
   "outputs": [],
   "source": [
    "# Create a function that returns a dataframe with one row and one column for every year\n",
    "def get_death_df(deaths, death_type):\n",
    "    # Validate parameters\n",
    "    if death_type not in ['up', 'low', 'deaths']:\n",
    "        raise ValueError('death_type must be one of \"up\", \"low\", or \"deaths\"')\n",
    "    print('death_type:', death_type)\n",
    "    \n",
    "    # Filter for the relevant rows\n",
    "    deaths_de_0 = deaths.filter(deaths['country'] == 'DEU').filter(deaths['cause_no'] == 0)\n",
    "\n",
    "    # Create a dataframe with one row where each column contains the death data \n",
    "    # for particular year\n",
    "    cols = get_death_cols(death_type)\n",
    "    deaths_de_0 = deaths_de_0.groupBy('cause_no').sum(*cols).drop('cause_no', *cols)\n",
    "    \n",
    "    # Make sure we have exactly one row per death cause, i.e. cause_no == 0\n",
    "    assert deaths_de_0.count() == 1\n",
    "    \n",
    "    # Now the data is small enough to convert it to a pandas dataframe \n",
    "    # (which is read into memory of the driver, i.e. this notebook)\n",
    "    deaths_df = deaths_de_0.toPandas()\n",
    "    \n",
    "    # Rename all columns, so that each plot has the same x-axis later\n",
    "    for col in deaths_df.columns:\n",
    "        year = extract_year(col)\n",
    "        if year:\n",
    "            deaths_df = deaths_df.rename(columns={col: year})\n",
    "            \n",
    "    # Print the dataframe just for debugging\n",
    "    display(deaths_df.head())\n",
    "    \n",
    "    return deaths_df"
   ]
  },
  {
   "cell_type": "code",
   "execution_count": 13,
   "id": "171ac8aa",
   "metadata": {},
   "outputs": [
    {
     "name": "stdout",
     "output_type": "stream",
     "text": [
      "death_type: up\n"
     ]
    },
    {
     "data": {
      "text/html": [
       "<div>\n",
       "<style scoped>\n",
       "    .dataframe tbody tr th:only-of-type {\n",
       "        vertical-align: middle;\n",
       "    }\n",
       "\n",
       "    .dataframe tbody tr th {\n",
       "        vertical-align: top;\n",
       "    }\n",
       "\n",
       "    .dataframe thead th {\n",
       "        text-align: right;\n",
       "    }\n",
       "</style>\n",
       "<table border=\"1\" class=\"dataframe\">\n",
       "  <thead>\n",
       "    <tr style=\"text-align: right;\">\n",
       "      <th></th>\n",
       "      <th>2000</th>\n",
       "      <th>2001</th>\n",
       "      <th>2002</th>\n",
       "      <th>2003</th>\n",
       "      <th>2004</th>\n",
       "      <th>2005</th>\n",
       "      <th>2006</th>\n",
       "      <th>2007</th>\n",
       "      <th>2008</th>\n",
       "      <th>2009</th>\n",
       "      <th>2010</th>\n",
       "      <th>2011</th>\n",
       "      <th>2012</th>\n",
       "      <th>2013</th>\n",
       "      <th>2014</th>\n",
       "      <th>2015</th>\n",
       "      <th>2016</th>\n",
       "    </tr>\n",
       "  </thead>\n",
       "  <tbody>\n",
       "    <tr>\n",
       "      <th>0</th>\n",
       "      <td>843813.866302</td>\n",
       "      <td>833598.14032</td>\n",
       "      <td>846751.093079</td>\n",
       "      <td>858939.595093</td>\n",
       "      <td>823146.416809</td>\n",
       "      <td>835246.873291</td>\n",
       "      <td>826624.910645</td>\n",
       "      <td>832002.4021</td>\n",
       "      <td>849529.402679</td>\n",
       "      <td>859621.054047</td>\n",
       "      <td>863828.828613</td>\n",
       "      <td>857820.393341</td>\n",
       "      <td>875914.61615</td>\n",
       "      <td>900959.268066</td>\n",
       "      <td>875921.288635</td>\n",
       "      <td>933929.358765</td>\n",
       "      <td>928803.817902</td>\n",
       "    </tr>\n",
       "  </tbody>\n",
       "</table>\n",
       "</div>"
      ],
      "text/plain": [
       "            2000          2001           2002           2003           2004  \\\n",
       "0  843813.866302  833598.14032  846751.093079  858939.595093  823146.416809   \n",
       "\n",
       "            2005           2006         2007           2008           2009  \\\n",
       "0  835246.873291  826624.910645  832002.4021  849529.402679  859621.054047   \n",
       "\n",
       "            2010           2011          2012           2013           2014  \\\n",
       "0  863828.828613  857820.393341  875914.61615  900959.268066  875921.288635   \n",
       "\n",
       "            2015           2016  \n",
       "0  933929.358765  928803.817902  "
      ]
     },
     "metadata": {},
     "output_type": "display_data"
    },
    {
     "name": "stdout",
     "output_type": "stream",
     "text": [
      "death_type: deaths\n"
     ]
    },
    {
     "data": {
      "text/html": [
       "<div>\n",
       "<style scoped>\n",
       "    .dataframe tbody tr th:only-of-type {\n",
       "        vertical-align: middle;\n",
       "    }\n",
       "\n",
       "    .dataframe tbody tr th {\n",
       "        vertical-align: top;\n",
       "    }\n",
       "\n",
       "    .dataframe thead th {\n",
       "        text-align: right;\n",
       "    }\n",
       "</style>\n",
       "<table border=\"1\" class=\"dataframe\">\n",
       "  <thead>\n",
       "    <tr style=\"text-align: right;\">\n",
       "      <th></th>\n",
       "      <th>2000</th>\n",
       "      <th>2001</th>\n",
       "      <th>2002</th>\n",
       "      <th>2003</th>\n",
       "      <th>2004</th>\n",
       "      <th>2005</th>\n",
       "      <th>2006</th>\n",
       "      <th>2007</th>\n",
       "      <th>2008</th>\n",
       "      <th>2009</th>\n",
       "      <th>2010</th>\n",
       "      <th>2011</th>\n",
       "      <th>2012</th>\n",
       "      <th>2013</th>\n",
       "      <th>2014</th>\n",
       "      <th>2015</th>\n",
       "      <th>2016</th>\n",
       "    </tr>\n",
       "  </thead>\n",
       "  <tbody>\n",
       "    <tr>\n",
       "      <th>0</th>\n",
       "      <td>838848.592865</td>\n",
       "      <td>828558.538605</td>\n",
       "      <td>841765.283539</td>\n",
       "      <td>853992.677307</td>\n",
       "      <td>818314.885925</td>\n",
       "      <td>830357.249451</td>\n",
       "      <td>821844.718262</td>\n",
       "      <td>827206.096863</td>\n",
       "      <td>844688.994873</td>\n",
       "      <td>854816.832825</td>\n",
       "      <td>859005.383911</td>\n",
       "      <td>852524.178467</td>\n",
       "      <td>870017.796112</td>\n",
       "      <td>894285.81311</td>\n",
       "      <td>868734.533615</td>\n",
       "      <td>925610.80069</td>\n",
       "      <td>920556.673584</td>\n",
       "    </tr>\n",
       "  </tbody>\n",
       "</table>\n",
       "</div>"
      ],
      "text/plain": [
       "            2000           2001           2002           2003           2004  \\\n",
       "0  838848.592865  828558.538605  841765.283539  853992.677307  818314.885925   \n",
       "\n",
       "            2005           2006           2007           2008           2009  \\\n",
       "0  830357.249451  821844.718262  827206.096863  844688.994873  854816.832825   \n",
       "\n",
       "            2010           2011           2012          2013           2014  \\\n",
       "0  859005.383911  852524.178467  870017.796112  894285.81311  868734.533615   \n",
       "\n",
       "           2015           2016  \n",
       "0  925610.80069  920556.673584  "
      ]
     },
     "metadata": {},
     "output_type": "display_data"
    },
    {
     "name": "stdout",
     "output_type": "stream",
     "text": [
      "death_type: low\n"
     ]
    },
    {
     "data": {
      "text/html": [
       "<div>\n",
       "<style scoped>\n",
       "    .dataframe tbody tr th:only-of-type {\n",
       "        vertical-align: middle;\n",
       "    }\n",
       "\n",
       "    .dataframe tbody tr th {\n",
       "        vertical-align: top;\n",
       "    }\n",
       "\n",
       "    .dataframe thead th {\n",
       "        text-align: right;\n",
       "    }\n",
       "</style>\n",
       "<table border=\"1\" class=\"dataframe\">\n",
       "  <thead>\n",
       "    <tr style=\"text-align: right;\">\n",
       "      <th></th>\n",
       "      <th>2000</th>\n",
       "      <th>2001</th>\n",
       "      <th>2002</th>\n",
       "      <th>2003</th>\n",
       "      <th>2004</th>\n",
       "      <th>2005</th>\n",
       "      <th>2006</th>\n",
       "      <th>2007</th>\n",
       "      <th>2008</th>\n",
       "      <th>2009</th>\n",
       "      <th>2010</th>\n",
       "      <th>2011</th>\n",
       "      <th>2012</th>\n",
       "      <th>2013</th>\n",
       "      <th>2014</th>\n",
       "      <th>2015</th>\n",
       "      <th>2016</th>\n",
       "    </tr>\n",
       "  </thead>\n",
       "  <tbody>\n",
       "    <tr>\n",
       "      <th>0</th>\n",
       "      <td>833825.616425</td>\n",
       "      <td>823622.689972</td>\n",
       "      <td>836808.017761</td>\n",
       "      <td>849016.656952</td>\n",
       "      <td>813491.437683</td>\n",
       "      <td>825499.812469</td>\n",
       "      <td>817042.248047</td>\n",
       "      <td>822419.843994</td>\n",
       "      <td>839881.529602</td>\n",
       "      <td>849938.210785</td>\n",
       "      <td>854148.235901</td>\n",
       "      <td>847215.332611</td>\n",
       "      <td>864075.717316</td>\n",
       "      <td>887644.153168</td>\n",
       "      <td>861489.567764</td>\n",
       "      <td>917286.926376</td>\n",
       "      <td>912305.019073</td>\n",
       "    </tr>\n",
       "  </tbody>\n",
       "</table>\n",
       "</div>"
      ],
      "text/plain": [
       "            2000           2001           2002           2003           2004  \\\n",
       "0  833825.616425  823622.689972  836808.017761  849016.656952  813491.437683   \n",
       "\n",
       "            2005           2006           2007           2008           2009  \\\n",
       "0  825499.812469  817042.248047  822419.843994  839881.529602  849938.210785   \n",
       "\n",
       "            2010           2011           2012           2013           2014  \\\n",
       "0  854148.235901  847215.332611  864075.717316  887644.153168  861489.567764   \n",
       "\n",
       "            2015           2016  \n",
       "0  917286.926376  912305.019073  "
      ]
     },
     "metadata": {},
     "output_type": "display_data"
    },
    {
     "data": {
      "image/png": "[encoded data removed]",
      "text/plain": [
       "<Figure size 432x288 with 1 Axes>"
      ]
     },
     "metadata": {
      "needs_background": "light"
     },
     "output_type": "display_data"
    }
   ],
   "source": [
    "# Plot the upper estimated (up), actual (deaths) and lower estimated (low) deaths in one single plot\n",
    "fig, ax = plt.subplots()\n",
    "for death_type in ['up', 'deaths', 'low']:\n",
    "    death_df = get_death_df(deaths, death_type)\n",
    "    ax.plot(death_df.columns, death_df.values.ravel(), label=death_type)\n",
    "plt.title('Total deaths in Germany')\n",
    "plt.xticks(rotation=45)\n",
    "plt.legend()\n",
    "plt.show()"
   ]
  },
  {
   "cell_type": "markdown",
   "id": "dab8158a",
   "metadata": {},
   "source": [
    "## Teilaufgabe 4\n",
    "Erstellen Sie eine Auswertung gruppiert nach der Todesursache und aggregiert nach der Anzahl an Todesfällen für das Jahr 2016.\n",
    "\n",
    "Für diese Aufgabe werde ich die *tatsächlichen* Todeszahlen von Deutschland heranziehen und mich bei der Darstellung der Ergebnisse auf die 10 häufigsten Todesursachen beschränken."
   ]
  },
  {
   "cell_type": "code",
   "execution_count": 14,
   "id": "6dbd8736",
   "metadata": {
    "scrolled": false
   },
   "outputs": [
    {
     "name": "stdout",
     "output_type": "stream",
     "text": [
      "+--------------------+------------------+\n",
      "|          cause_name|   sum_deaths_2016|\n",
      "+--------------------+------------------+\n",
      "|          All Causes| 920556.6735839844|\n",
      "|Noncommunicable d...| 839535.8052215576|\n",
      "|Cardiovascular di...|343530.82811903954|\n",
      "| Malignant neoplasms|235379.45161151886|\n",
      "|Ischaemic heart d...|  191912.831159126|\n",
      "|Neurological cond...| 72568.20000190288|\n",
      "|Other circulatory...| 59006.17331010103|\n",
      "|Respiratory diseases|58838.875165462494|\n",
      "|              Stroke|58306.235140547156|\n",
      "|Alzheimer disease...| 48769.67004454136|\n",
      "+--------------------+------------------+\n",
      "\n"
     ]
    }
   ],
   "source": [
    "# Calculate the sum of deaths in 2016 by death cause_name\n",
    "deaths_2016 = deaths.filter(deaths['country'] == 'DEU').filter(deaths['deaths_2016'] > 0)\n",
    "deaths_2016 = deaths_2016.groupBy('cause_name') \\\n",
    "    .sum('deaths_2016') \\\n",
    "    .withColumnRenamed('sum(deaths_2016)', 'sum_deaths_2016') \\\n",
    "    .orderBy('sum_deaths_2016', ascending=False) \\\n",
    "    .limit(10)\n",
    "deaths_2016.show()"
   ]
  },
  {
   "cell_type": "code",
   "execution_count": 15,
   "id": "62800961",
   "metadata": {},
   "outputs": [
    {
     "data": {
      "image/png": "[encoded data removed]",
      "text/plain": [
       "<Figure size 432x288 with 1 Axes>"
      ]
     },
     "metadata": {
      "needs_background": "light"
     },
     "output_type": "display_data"
    }
   ],
   "source": [
    "# Create a bar plot of all death causes\n",
    "deaths_2016_df = deaths_2016.toPandas()\n",
    "ax = deaths_2016_df.plot.barh(x='cause_name', \n",
    "                         y='sum_deaths_2016',\n",
    "                        align='edge',\n",
    "                        color=['purple', 'red', 'green', 'orange', 'blue'])\n",
    "_ = ax.set_xlabel('hundred thousand')\n",
    "_ = ax.set_title('death causes in 2016')"
   ]
  },
  {
   "cell_type": "markdown",
   "id": "845e7519",
   "metadata": {},
   "source": [
    "## Teilaufgabe 5\n",
    "Erstellen Sie einen zeitlichen Vergleich der Anzahl an Todesfällen bezogen auf eine Todesursache (in der Abbildung bezogen auf die Todesursache 0).\n",
    "\n",
    "Zuerst, werde ich die prozentualen Änderungen von Jahr zu Jahr plotten und wie in der Vorlesung werde ich mich auf Todesfälle in Deutschland beschränken. Danach werde ich zusätzlich die prozentualen Änderungen im Vergleich zum Jahr 2000 plotten."
   ]
  },
  {
   "cell_type": "code",
   "execution_count": 16,
   "id": "dae0a60a",
   "metadata": {
    "scrolled": true
   },
   "outputs": [
    {
     "name": "stdout",
     "output_type": "stream",
     "text": [
      "+--------+-----------------+-----------------+-----------------+-----------------+----------------+-----------------+-----------------+----------------+-----------------+----------------+-----------------+-----------------+-----------------+-----------------+-----------------+-----------------+-----------------+\n",
      "|cause_no| sum(deaths_2000)| sum(deaths_2001)| sum(deaths_2002)| sum(deaths_2003)|sum(deaths_2004)| sum(deaths_2005)| sum(deaths_2006)|sum(deaths_2007)| sum(deaths_2008)|sum(deaths_2009)| sum(deaths_2010)| sum(deaths_2011)| sum(deaths_2012)| sum(deaths_2013)| sum(deaths_2014)| sum(deaths_2015)| sum(deaths_2016)|\n",
      "+--------+-----------------+-----------------+-----------------+-----------------+----------------+-----------------+-----------------+----------------+-----------------+----------------+-----------------+-----------------+-----------------+-----------------+-----------------+-----------------+-----------------+\n",
      "|       0|838848.5928649902|828558.5386047363|841765.2835388184|853992.6773071289|818314.885925293|830357.2494506836|821844.7182617188|827206.096862793|844688.9948730469|854816.832824707|859005.3839111328|852524.1784667969|870017.7961120605|894285.8131103516|868734.5336151123|925610.8006896973|920556.6735839844|\n",
      "+--------+-----------------+-----------------+-----------------+-----------------+----------------+-----------------+-----------------+----------------+-----------------+----------------+-----------------+-----------------+-----------------+-----------------+-----------------+-----------------+-----------------+\n",
      "\n"
     ]
    }
   ],
   "source": [
    "# Calculate the sum of all deaths for death cause_no 0\n",
    "death_cols = get_death_cols()\n",
    "deaths_0 = deaths.filter(deaths['cause_no'] == 0) \\\n",
    "    .filter(deaths['country'] == 'DEU') \\\n",
    "    .groupBy('cause_no') \\\n",
    "    .sum(*death_cols)\n",
    "deaths_0.show()"
   ]
  },
  {
   "cell_type": "code",
   "execution_count": 17,
   "id": "0e0ba706",
   "metadata": {},
   "outputs": [
    {
     "data": {
      "text/html": [
       "<div>\n",
       "<style scoped>\n",
       "    .dataframe tbody tr th:only-of-type {\n",
       "        vertical-align: middle;\n",
       "    }\n",
       "\n",
       "    .dataframe tbody tr th {\n",
       "        vertical-align: top;\n",
       "    }\n",
       "\n",
       "    .dataframe thead th {\n",
       "        text-align: right;\n",
       "    }\n",
       "</style>\n",
       "<table border=\"1\" class=\"dataframe\">\n",
       "  <thead>\n",
       "    <tr style=\"text-align: right;\">\n",
       "      <th></th>\n",
       "      <th>2000</th>\n",
       "      <th>2001</th>\n",
       "      <th>2002</th>\n",
       "      <th>2003</th>\n",
       "      <th>2004</th>\n",
       "      <th>2005</th>\n",
       "      <th>2006</th>\n",
       "      <th>2007</th>\n",
       "      <th>2008</th>\n",
       "      <th>2009</th>\n",
       "      <th>2010</th>\n",
       "      <th>2011</th>\n",
       "      <th>2012</th>\n",
       "      <th>2013</th>\n",
       "      <th>2014</th>\n",
       "      <th>2015</th>\n",
       "      <th>2016</th>\n",
       "    </tr>\n",
       "  </thead>\n",
       "  <tbody>\n",
       "    <tr>\n",
       "      <th>0</th>\n",
       "      <td>838848.592865</td>\n",
       "      <td>828558.538605</td>\n",
       "      <td>841765.283539</td>\n",
       "      <td>853992.677307</td>\n",
       "      <td>818314.885925</td>\n",
       "      <td>830357.249451</td>\n",
       "      <td>821844.718262</td>\n",
       "      <td>827206.096863</td>\n",
       "      <td>844688.994873</td>\n",
       "      <td>854816.832825</td>\n",
       "      <td>859005.383911</td>\n",
       "      <td>852524.178467</td>\n",
       "      <td>870017.796112</td>\n",
       "      <td>894285.81311</td>\n",
       "      <td>868734.533615</td>\n",
       "      <td>925610.80069</td>\n",
       "      <td>920556.673584</td>\n",
       "    </tr>\n",
       "  </tbody>\n",
       "</table>\n",
       "</div>"
      ],
      "text/plain": [
       "            2000           2001           2002           2003           2004  \\\n",
       "0  838848.592865  828558.538605  841765.283539  853992.677307  818314.885925   \n",
       "\n",
       "            2005           2006           2007           2008           2009  \\\n",
       "0  830357.249451  821844.718262  827206.096863  844688.994873  854816.832825   \n",
       "\n",
       "            2010           2011           2012          2013           2014  \\\n",
       "0  859005.383911  852524.178467  870017.796112  894285.81311  868734.533615   \n",
       "\n",
       "           2015           2016  \n",
       "0  925610.80069  920556.673584  "
      ]
     },
     "execution_count": 17,
     "metadata": {},
     "output_type": "execute_result"
    }
   ],
   "source": [
    "# Rename the columns\n",
    "deaths_0_df = deaths_0.toPandas()\n",
    "for column in deaths_0_df.columns:\n",
    "    year = extract_year(column)\n",
    "    if year:\n",
    "        deaths_0_df = deaths_0_df.rename(columns={column: year})\n",
    "deaths_0_df = deaths_0_df.drop('cause_no', axis=1)\n",
    "deaths_0_df.head()"
   ]
  },
  {
   "cell_type": "code",
   "execution_count": 18,
   "id": "ca8595e0",
   "metadata": {},
   "outputs": [
    {
     "data": {
      "text/html": [
       "<div>\n",
       "<style scoped>\n",
       "    .dataframe tbody tr th:only-of-type {\n",
       "        vertical-align: middle;\n",
       "    }\n",
       "\n",
       "    .dataframe tbody tr th {\n",
       "        vertical-align: top;\n",
       "    }\n",
       "\n",
       "    .dataframe thead th {\n",
       "        text-align: right;\n",
       "    }\n",
       "</style>\n",
       "<table border=\"1\" class=\"dataframe\">\n",
       "  <thead>\n",
       "    <tr style=\"text-align: right;\">\n",
       "      <th></th>\n",
       "      <th>year</th>\n",
       "      <th>deaths_this_year</th>\n",
       "    </tr>\n",
       "  </thead>\n",
       "  <tbody>\n",
       "    <tr>\n",
       "      <th>0</th>\n",
       "      <td>2000</td>\n",
       "      <td>838848.592865</td>\n",
       "    </tr>\n",
       "    <tr>\n",
       "      <th>1</th>\n",
       "      <td>2001</td>\n",
       "      <td>828558.538605</td>\n",
       "    </tr>\n",
       "    <tr>\n",
       "      <th>2</th>\n",
       "      <td>2002</td>\n",
       "      <td>841765.283539</td>\n",
       "    </tr>\n",
       "    <tr>\n",
       "      <th>3</th>\n",
       "      <td>2003</td>\n",
       "      <td>853992.677307</td>\n",
       "    </tr>\n",
       "    <tr>\n",
       "      <th>4</th>\n",
       "      <td>2004</td>\n",
       "      <td>818314.885925</td>\n",
       "    </tr>\n",
       "  </tbody>\n",
       "</table>\n",
       "</div>"
      ],
      "text/plain": [
       "   year  deaths_this_year\n",
       "0  2000     838848.592865\n",
       "1  2001     828558.538605\n",
       "2  2002     841765.283539\n",
       "3  2003     853992.677307\n",
       "4  2004     818314.885925"
      ]
     },
     "metadata": {},
     "output_type": "display_data"
    }
   ],
   "source": [
    "# \"Transpose\" the above dataframe\n",
    "deaths_long = deaths_0_df.melt(value_vars=deaths_0_df.columns,\n",
    "                              var_name='year',\n",
    "                              value_name='deaths_this_year')\n",
    "display(deaths_long.head())"
   ]
  },
  {
   "cell_type": "code",
   "execution_count": 19,
   "id": "59d994df",
   "metadata": {},
   "outputs": [
    {
     "data": {
      "text/html": [
       "<div>\n",
       "<style scoped>\n",
       "    .dataframe tbody tr th:only-of-type {\n",
       "        vertical-align: middle;\n",
       "    }\n",
       "\n",
       "    .dataframe tbody tr th {\n",
       "        vertical-align: top;\n",
       "    }\n",
       "\n",
       "    .dataframe thead th {\n",
       "        text-align: right;\n",
       "    }\n",
       "</style>\n",
       "<table border=\"1\" class=\"dataframe\">\n",
       "  <thead>\n",
       "    <tr style=\"text-align: right;\">\n",
       "      <th></th>\n",
       "      <th>year</th>\n",
       "      <th>deaths_this_year</th>\n",
       "      <th>deaths_last_year</th>\n",
       "      <th>diff_year_to_year</th>\n",
       "    </tr>\n",
       "  </thead>\n",
       "  <tbody>\n",
       "    <tr>\n",
       "      <th>0</th>\n",
       "      <td>2000</td>\n",
       "      <td>838848.592865</td>\n",
       "      <td>NaN</td>\n",
       "      <td>NaN</td>\n",
       "    </tr>\n",
       "    <tr>\n",
       "      <th>1</th>\n",
       "      <td>2001</td>\n",
       "      <td>828558.538605</td>\n",
       "      <td>838848.592865</td>\n",
       "      <td>-0.012267</td>\n",
       "    </tr>\n",
       "    <tr>\n",
       "      <th>2</th>\n",
       "      <td>2002</td>\n",
       "      <td>841765.283539</td>\n",
       "      <td>828558.538605</td>\n",
       "      <td>0.015939</td>\n",
       "    </tr>\n",
       "    <tr>\n",
       "      <th>3</th>\n",
       "      <td>2003</td>\n",
       "      <td>853992.677307</td>\n",
       "      <td>841765.283539</td>\n",
       "      <td>0.014526</td>\n",
       "    </tr>\n",
       "    <tr>\n",
       "      <th>4</th>\n",
       "      <td>2004</td>\n",
       "      <td>818314.885925</td>\n",
       "      <td>853992.677307</td>\n",
       "      <td>-0.041778</td>\n",
       "    </tr>\n",
       "  </tbody>\n",
       "</table>\n",
       "</div>"
      ],
      "text/plain": [
       "   year  deaths_this_year  deaths_last_year  diff_year_to_year\n",
       "0  2000     838848.592865               NaN                NaN\n",
       "1  2001     828558.538605     838848.592865          -0.012267\n",
       "2  2002     841765.283539     828558.538605           0.015939\n",
       "3  2003     853992.677307     841765.283539           0.014526\n",
       "4  2004     818314.885925     853992.677307          -0.041778"
      ]
     },
     "execution_count": 19,
     "metadata": {},
     "output_type": "execute_result"
    }
   ],
   "source": [
    "# Calculate percentage differences between years\n",
    "deaths_long['deaths_last_year'] = deaths_long.shift(1)['deaths_this_year']\n",
    "deaths_long['diff_year_to_year'] = ((deaths_long['deaths_this_year'] - deaths_long['deaths_last_year']) / \n",
    "                                    deaths_long['deaths_last_year'])\n",
    "deaths_long.head()"
   ]
  },
  {
   "cell_type": "code",
   "execution_count": 20,
   "id": "7de0eac9",
   "metadata": {},
   "outputs": [
    {
     "data": {
      "text/plain": [
       "<AxesSubplot:xlabel='year'>"
      ]
     },
     "execution_count": 20,
     "metadata": {},
     "output_type": "execute_result"
    },
    {
     "data": {
      "image/png": "[encoded data removed]",
      "text/plain": [
       "<Figure size 432x288 with 1 Axes>"
      ]
     },
     "metadata": {
      "needs_background": "light"
     },
     "output_type": "display_data"
    }
   ],
   "source": [
    "# Plot the percentage differences as bar plots\n",
    "deaths_long.plot.bar(x='year', y='diff_year_to_year')"
   ]
  },
  {
   "cell_type": "code",
   "execution_count": 21,
   "id": "f0436ebb",
   "metadata": {},
   "outputs": [
    {
     "data": {
      "text/html": [
       "<div>\n",
       "<style scoped>\n",
       "    .dataframe tbody tr th:only-of-type {\n",
       "        vertical-align: middle;\n",
       "    }\n",
       "\n",
       "    .dataframe tbody tr th {\n",
       "        vertical-align: top;\n",
       "    }\n",
       "\n",
       "    .dataframe thead th {\n",
       "        text-align: right;\n",
       "    }\n",
       "</style>\n",
       "<table border=\"1\" class=\"dataframe\">\n",
       "  <thead>\n",
       "    <tr style=\"text-align: right;\">\n",
       "      <th></th>\n",
       "      <th>year</th>\n",
       "      <th>deaths_this_year</th>\n",
       "      <th>deaths_last_year</th>\n",
       "      <th>diff_year_to_year</th>\n",
       "      <th>diff_to_2000</th>\n",
       "    </tr>\n",
       "  </thead>\n",
       "  <tbody>\n",
       "    <tr>\n",
       "      <th>0</th>\n",
       "      <td>2000</td>\n",
       "      <td>838848.592865</td>\n",
       "      <td>NaN</td>\n",
       "      <td>NaN</td>\n",
       "      <td>0.000000</td>\n",
       "    </tr>\n",
       "    <tr>\n",
       "      <th>1</th>\n",
       "      <td>2001</td>\n",
       "      <td>828558.538605</td>\n",
       "      <td>838848.592865</td>\n",
       "      <td>-0.012267</td>\n",
       "      <td>-0.012267</td>\n",
       "    </tr>\n",
       "    <tr>\n",
       "      <th>2</th>\n",
       "      <td>2002</td>\n",
       "      <td>841765.283539</td>\n",
       "      <td>828558.538605</td>\n",
       "      <td>0.015939</td>\n",
       "      <td>0.003477</td>\n",
       "    </tr>\n",
       "    <tr>\n",
       "      <th>3</th>\n",
       "      <td>2003</td>\n",
       "      <td>853992.677307</td>\n",
       "      <td>841765.283539</td>\n",
       "      <td>0.014526</td>\n",
       "      <td>0.018053</td>\n",
       "    </tr>\n",
       "    <tr>\n",
       "      <th>4</th>\n",
       "      <td>2004</td>\n",
       "      <td>818314.885925</td>\n",
       "      <td>853992.677307</td>\n",
       "      <td>-0.041778</td>\n",
       "      <td>-0.024478</td>\n",
       "    </tr>\n",
       "  </tbody>\n",
       "</table>\n",
       "</div>"
      ],
      "text/plain": [
       "   year  deaths_this_year  deaths_last_year  diff_year_to_year  diff_to_2000\n",
       "0  2000     838848.592865               NaN                NaN      0.000000\n",
       "1  2001     828558.538605     838848.592865          -0.012267     -0.012267\n",
       "2  2002     841765.283539     828558.538605           0.015939      0.003477\n",
       "3  2003     853992.677307     841765.283539           0.014526      0.018053\n",
       "4  2004     818314.885925     853992.677307          -0.041778     -0.024478"
      ]
     },
     "execution_count": 21,
     "metadata": {},
     "output_type": "execute_result"
    }
   ],
   "source": [
    "# Calculate the percentage differences with respect to year 2000\n",
    "deaths_2000 = deaths_long.loc[deaths_long.year == '2000', 'deaths_this_year'].item()\n",
    "deaths_long['diff_to_2000'] = ((deaths_long['deaths_this_year'] - deaths_2000) / deaths_2000)\n",
    "deaths_long.head()"
   ]
  },
  {
   "cell_type": "code",
   "execution_count": 22,
   "id": "adb23653",
   "metadata": {},
   "outputs": [
    {
     "data": {
      "text/plain": [
       "<AxesSubplot:xlabel='year'>"
      ]
     },
     "execution_count": 22,
     "metadata": {},
     "output_type": "execute_result"
    },
    {
     "data": {
      "image/png": "[encoded data removed]",
      "text/plain": [
       "<Figure size 432x288 with 1 Axes>"
      ]
     },
     "metadata": {
      "needs_background": "light"
     },
     "output_type": "display_data"
    }
   ],
   "source": [
    "# Plot the percentage differences as bar plots\n",
    "deaths_long.plot.bar(x='year', y='diff_to_2000')"
   ]
  },
  {
   "cell_type": "markdown",
   "id": "1526f727",
   "metadata": {},
   "source": [
    "## Teilaufgabe 6\n",
    "Erstellen Sie eine Tabelle mit der Anzahl an Todesfällen, die mit Cancer in Verbindung stehen gruppiert nach Alter im Jahr 2016.\n",
    "\n",
    "Wie bereits in vorherigen Aufgaben, werde ich mich auf Todesfälle in Deutschland beschränken."
   ]
  },
  {
   "cell_type": "code",
   "execution_count": 23,
   "id": "8a29f100",
   "metadata": {},
   "outputs": [
    {
     "name": "stdout",
     "output_type": "stream",
     "text": [
      "+----------+----------------+\n",
      "|cause_name|cause_name_lower|\n",
      "+----------+----------------+\n",
      "|All Causes|      all causes|\n",
      "|All Causes|      all causes|\n",
      "|All Causes|      all causes|\n",
      "|All Causes|      all causes|\n",
      "|All Causes|      all causes|\n",
      "+----------+----------------+\n",
      "only showing top 5 rows\n",
      "\n"
     ]
    }
   ],
   "source": [
    "# Create extra column with cause_name all in lower case so that I can reliably filter for cancer\n",
    "deaths = deaths.withColumn('cause_name_lower', lower(col('cause_name')))\n",
    "deaths.select('cause_name', 'cause_name_lower').show(5)"
   ]
  },
  {
   "cell_type": "code",
   "execution_count": 24,
   "id": "bf009f7d",
   "metadata": {},
   "outputs": [
    {
     "name": "stdout",
     "output_type": "stream",
     "text": [
      "Row count after filtering: 500\n",
      "+----------+-------------------+\n",
      "| age_group|    sum_deaths_2016|\n",
      "+----------+-------------------+\n",
      "| AGE85-100| 37360.349177360535|\n",
      "|  AGE75-79|  36791.70424938202|\n",
      "|  AGE80-84| 32150.361338615417|\n",
      "|  AGE70-74|  30743.27100276947|\n",
      "|  AGE65-69| 21515.800642967224|\n",
      "|  AGE60-64| 20715.345891952515|\n",
      "|  AGE55-59| 14360.072834014893|\n",
      "|  AGE50-54|  8985.578726768494|\n",
      "|  AGE45-49| 4041.2642817497253|\n",
      "|  AGE40-44| 1511.1719765663147|\n",
      "|  AGE35-39|  712.9280898272991|\n",
      "|  AGE30-34|  404.8013355731964|\n",
      "|  AGE25-29| 189.77633187174797|\n",
      "|  AGE20-24|  85.14372700452805|\n",
      "|  AGE15-19| 53.055536691099405|\n",
      "|    AGE5-9| 50.072960417717695|\n",
      "|  AGE10-14|  33.33703737705946|\n",
      "|    AGE1-4| 23.823335766792297|\n",
      "|MONTHS1-11|  0.766697108745575|\n",
      "|  DAYS0-28|0.16313045471906662|\n",
      "+----------+-------------------+\n",
      "\n"
     ]
    }
   ],
   "source": [
    "# Fitler for all deaths related to Cancer\n",
    "deaths_cancer = deaths.filter(deaths['cause_name_lower'].contains('cancer')) \\\n",
    "    .filter(deaths['country'] == 'DEU')\n",
    "print('Row count after filtering:', deaths_cancer.count())\n",
    "\n",
    "# Group by age_group and and sum over deaths_2016\n",
    "deaths_cancer = deaths_cancer.groupBy('age_group') \\\n",
    "    .sum('deaths_2016') \\\n",
    "    .withColumnRenamed('sum(deaths_2016)', 'sum_deaths_2016') \\\n",
    "    .orderBy('sum_deaths_2016', ascending=False)\n",
    "deaths_cancer.show()"
   ]
  },
  {
   "cell_type": "markdown",
   "id": "f5c197b8",
   "metadata": {},
   "source": [
    "## Teilaufgabe 7\n",
    "Erstellen Sie ein Tortendiagramm mit den Todesursachenhäufigkeiten im Jahr 2016.\n",
    "\n",
    "Hier werde ich mich auf die 20 häufigsten Todesursachen in Deutschland beschränken."
   ]
  },
  {
   "cell_type": "code",
   "execution_count": 25,
   "id": "0492ebb5",
   "metadata": {},
   "outputs": [],
   "source": [
    "# Function to get the x most common death causes in a specific country in a specific year\n",
    "def get_common_death_causes(deaths, country: str, column: str, limit: int):\n",
    "    death_causes = deaths \\\n",
    "        .filter(deaths['country'] == country) \\\n",
    "        .filter(deaths[column] > 0) \\\n",
    "        .groupBy('cause_name_lower') \\\n",
    "        .sum(column) \\\n",
    "        .withColumnRenamed(f'sum({column})', f'sum_{column}') \\\n",
    "        .orderBy(f'sum_{column}', ascending=False)\n",
    "    print(f'Number of total distinct causes in {country}: {death_causes.count()}')\n",
    "    \n",
    "    # Only retain the `limit` most common death causes\n",
    "    death_causes = death_causes.limit(limit)\n",
    "    death_causes.show()\n",
    "    \n",
    "    return death_causes"
   ]
  },
  {
   "cell_type": "code",
   "execution_count": 26,
   "id": "7fb65312",
   "metadata": {},
   "outputs": [
    {
     "name": "stdout",
     "output_type": "stream",
     "text": [
      "Number of total distinct causes in DEU: 179\n",
      "+--------------------+------------------+\n",
      "|    cause_name_lower|   sum_deaths_2016|\n",
      "+--------------------+------------------+\n",
      "|          all causes| 920556.6735839844|\n",
      "|noncommunicable d...| 839535.8052215576|\n",
      "|cardiovascular di...|343530.82811903954|\n",
      "| malignant neoplasms|235379.45161151886|\n",
      "|ischaemic heart d...|  191912.831159126|\n",
      "|neurological cond...| 72568.20000190288|\n",
      "|other circulatory...| 59006.17331010103|\n",
      "|respiratory diseases|58838.875165462494|\n",
      "|              stroke|58306.235140547156|\n",
      "|alzheimer disease...| 48769.67004454136|\n",
      "|chronic obstructi...|48208.593697309494|\n",
      "|trachea; bronchus...|47131.487330913544|\n",
      "|communicable; mat...| 44314.14274406433|\n",
      "|  digestive diseases| 40566.07289594412|\n",
      "|            injuries| 36706.71230316162|\n",
      "|    ischaemic stroke| 35402.90802706033|\n",
      "|genitourinary dis...|29864.502741485834|\n",
      "|colon and rectum ...|28808.684104919434|\n",
      "|unintentional inj...|24941.597425460815|\n",
      "|   diabetes mellitus|24763.661523155868|\n",
      "+--------------------+------------------+\n",
      "\n"
     ]
    }
   ],
   "source": [
    "death_causes = get_common_death_causes(deaths, 'DEU', 'deaths_2016', 20)"
   ]
  },
  {
   "cell_type": "code",
   "execution_count": 27,
   "id": "2edfbf43",
   "metadata": {},
   "outputs": [
    {
     "data": {
      "text/plain": [
       "<AxesSubplot:ylabel='sum_deaths_2016'>"
      ]
     },
     "execution_count": 27,
     "metadata": {},
     "output_type": "execute_result"
    },
    {
     "data": {
      "image/png": "[encoded data removed]",
      "text/plain": [
       "<Figure size 864x864 with 1 Axes>"
      ]
     },
     "metadata": {},
     "output_type": "display_data"
    }
   ],
   "source": [
    "# Convert to a dataframe and create the plot\n",
    "death_causes_df = death_causes.toPandas()\n",
    "death_causes_df.set_index('cause_name_lower', inplace=True)\n",
    "death_causes_df.plot.pie(y='sum_deaths_2016', figsize=(12, 12))"
   ]
  },
  {
   "cell_type": "markdown",
   "id": "928a61b0",
   "metadata": {},
   "source": [
    "## Teilaufgabe 8\n",
    "Erstellen Sie eine Auswertung mit den 4 häufigsten Todesursachen im Jahr 2016. \n",
    "\n",
    "Wie immer, werde ich mich auf Deutschland beschränken."
   ]
  },
  {
   "cell_type": "code",
   "execution_count": 28,
   "id": "ef54fd87",
   "metadata": {},
   "outputs": [
    {
     "name": "stdout",
     "output_type": "stream",
     "text": [
      "Number of total distinct causes in DEU: 179\n",
      "+--------------------+------------------+\n",
      "|    cause_name_lower|   sum_deaths_2016|\n",
      "+--------------------+------------------+\n",
      "|          all causes| 920556.6735839844|\n",
      "|noncommunicable d...| 839535.8052215576|\n",
      "|cardiovascular di...|343530.82811903954|\n",
      "| malignant neoplasms|235379.45161151886|\n",
      "|ischaemic heart d...|  191912.831159126|\n",
      "+--------------------+------------------+\n",
      "\n"
     ]
    }
   ],
   "source": [
    "death_causes = get_common_death_causes(deaths, 'DEU', 'deaths_2016', 5)"
   ]
  },
  {
   "cell_type": "code",
   "execution_count": 29,
   "id": "909c5cf2",
   "metadata": {},
   "outputs": [
    {
     "data": {
      "text/plain": [
       "<AxesSubplot:ylabel='cause_name_lower'>"
      ]
     },
     "execution_count": 29,
     "metadata": {},
     "output_type": "execute_result"
    },
    {
     "data": {
      "image/png": "[encoded data removed]",
      "text/plain": [
       "<Figure size 432x288 with 1 Axes>"
      ]
     },
     "metadata": {
      "needs_background": "light"
     },
     "output_type": "display_data"
    }
   ],
   "source": [
    "death_causes_df = death_causes.toPandas()\n",
    "death_causes_df.set_index('cause_name_lower', inplace=True)\n",
    "death_causes_df.plot.barh(y='sum_deaths_2016',\n",
    "                         color=['purple', 'red', 'green', 'orange', 'blue'])"
   ]
  },
  {
   "cell_type": "code",
   "execution_count": 30,
   "id": "0c4cff37",
   "metadata": {},
   "outputs": [],
   "source": [
    "# NEVER FORGET to stop the session\n",
    "spark.stop()"
   ]
  }
 ],
 "metadata": {
  "kernelspec": {
   "display_name": "Python 3",
   "language": "python",
   "name": "python3"
  },
  "language_info": {
   "codemirror_mode": {
    "name": "ipython",
    "version": 3
   },
   "file_extension": ".py",
   "mimetype": "text/x-python",
   "name": "python",
   "nbconvert_exporter": "python",
   "pygments_lexer": "ipython3",
   "version": "3.7.10"
  }
 },
 "nbformat": 4,
 "nbformat_minor": 5
}
