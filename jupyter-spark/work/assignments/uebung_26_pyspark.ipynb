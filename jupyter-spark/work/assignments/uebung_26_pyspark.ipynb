{
 "cells": [
  {
   "cell_type": "markdown",
   "id": "d2da143a",
   "metadata": {},
   "source": [
    "# Analyzing Distributed Data with Spark"
   ]
  },
  {
   "cell_type": "markdown",
   "id": "b56cf749",
   "metadata": {},
   "source": [
    "## Initialisierung der Spark Application"
   ]
  },
  {
   "cell_type": "code",
   "execution_count": 1,
   "id": "d1b677db",
   "metadata": {},
   "outputs": [],
   "source": [
    "import pandas as pd\n",
    "from pyspark.sql import SparkSession\n",
    "from pyspark.sql import Row\n",
    "from pyspark.sql import functions\n",
    "from pyspark.sql import dataframe\n",
    "from pyspark.sql.functions import to_timestamp, to_date, year, dayofweek\n",
    "from scipy import stats"
   ]
  },
  {
   "cell_type": "code",
   "execution_count": 2,
   "id": "6f1a23ca",
   "metadata": {},
   "outputs": [],
   "source": [
    "# Spark session & context\n",
    "spark = SparkSession \\\n",
    "    .builder \\\n",
    "    .master('spark://spark-master:7077') \\\n",
    "    .appName(\"uebung_26\") \\\n",
    "    .config(\"spark.some.config.option\", \"some-value\") \\\n",
    "    .getOrCreate()\n",
    "sc = spark.sparkContext"
   ]
  },
  {
   "cell_type": "code",
   "execution_count": 3,
   "id": "5b152c5e",
   "metadata": {},
   "outputs": [],
   "source": [
    "# Create connection to csv file and inspect it\n",
    "def read_and_format_csv(path, sep=',', header=True, date_col=None):\n",
    "    # Read in the dataframe\n",
    "    df = spark.read.csv(\n",
    "        path=path, \n",
    "        sep=sep,\n",
    "        header=header,\n",
    "        inferSchema=True)\n",
    "    \n",
    "    # Make sure dates are in date format (and not strings)\n",
    "    if date_col is not None:\n",
    "        df = df.withColumn(date_col, to_date(date_col, 'yyyy-MM-dd'))\n",
    "    \n",
    "    # Printing some info\n",
    "    print(f'Number of rows: {df.count()}')\n",
    "    print(df.printSchema())\n",
    "    print(df.show(5))\n",
    "    return df"
   ]
  },
  {
   "cell_type": "markdown",
   "id": "d9baa915",
   "metadata": {},
   "source": [
    "## Einlesen aller relevanten Dateien"
   ]
  },
  {
   "cell_type": "code",
   "execution_count": 4,
   "id": "d9c2f899",
   "metadata": {},
   "outputs": [
    {
     "name": "stdout",
     "output_type": "stream",
     "text": [
      "Number of rows: 350\n",
      "root\n",
      " |-- datum_holi: date (nullable = true)\n",
      " |-- type: string (nullable = true)\n",
      " |-- locale: string (nullable = true)\n",
      " |-- locale_name: string (nullable = true)\n",
      " |-- description: string (nullable = true)\n",
      " |-- transferred: boolean (nullable = true)\n",
      "\n",
      "None\n",
      "+----------+-------+--------+-----------+--------------------+-----------+\n",
      "|datum_holi|   type|  locale|locale_name|         description|transferred|\n",
      "+----------+-------+--------+-----------+--------------------+-----------+\n",
      "|2012-03-02|Holiday|   Local|      Manta|  Fundacion de Manta|      false|\n",
      "|2012-04-01|Holiday|Regional|   Cotopaxi|Provincializacion...|      false|\n",
      "|2012-04-12|Holiday|   Local|     Cuenca| Fundacion de Cuenca|      false|\n",
      "|2012-04-14|Holiday|   Local|   Libertad|Cantonizacion de ...|      false|\n",
      "|2012-04-21|Holiday|   Local|   Riobamba|Cantonizacion de ...|      false|\n",
      "+----------+-------+--------+-----------+--------------------+-----------+\n",
      "only showing top 5 rows\n",
      "\n",
      "None\n"
     ]
    }
   ],
   "source": [
    "holidays = read_and_format_csv(\n",
    "    'hdfs://namenode:8020/user/root/workspace/pyspark/holidays_events.csv', \n",
    "    date_col='datum_holi')"
   ]
  },
  {
   "cell_type": "code",
   "execution_count": 5,
   "id": "077a7099",
   "metadata": {},
   "outputs": [
    {
     "name": "stdout",
     "output_type": "stream",
     "text": [
      "Number of rows: 4100\n",
      "root\n",
      " |-- item_nbr_item: integer (nullable = true)\n",
      " |-- family: string (nullable = true)\n",
      " |-- class: integer (nullable = true)\n",
      " |-- perishable: integer (nullable = true)\n",
      "\n",
      "None\n",
      "+-------------+------------+-----+----------+\n",
      "|item_nbr_item|      family|class|perishable|\n",
      "+-------------+------------+-----+----------+\n",
      "|        96995|   GROCERY I| 1093|         0|\n",
      "|        99197|   GROCERY I| 1067|         0|\n",
      "|       103501|    CLEANING| 3008|         0|\n",
      "|       103520|   GROCERY I| 1028|         0|\n",
      "|       103665|BREAD/BAKERY| 2712|         1|\n",
      "+-------------+------------+-----+----------+\n",
      "only showing top 5 rows\n",
      "\n",
      "None\n"
     ]
    }
   ],
   "source": [
    "items = read_and_format_csv('hdfs://namenode:8020/user/root/workspace/pyspark/items.csv')"
   ]
  },
  {
   "cell_type": "code",
   "execution_count": 6,
   "id": "c3fe9e78",
   "metadata": {},
   "outputs": [
    {
     "name": "stdout",
     "output_type": "stream",
     "text": [
      "Number of rows: 1222017\n",
      "root\n",
      " |-- id: integer (nullable = true)\n",
      " |-- date_quito: date (nullable = true)\n",
      " |-- store_nbr_quito: integer (nullable = true)\n",
      " |-- item_nbr_quito: integer (nullable = true)\n",
      " |-- unit_sales: double (nullable = true)\n",
      " |-- onpromotion: boolean (nullable = true)\n",
      " |-- city: string (nullable = true)\n",
      " |-- state: string (nullable = true)\n",
      " |-- cluster: integer (nullable = true)\n",
      "\n",
      "None\n",
      "+--------+----------+---------------+--------------+----------+-----------+-----+---------+-------+\n",
      "|      id|date_quito|store_nbr_quito|item_nbr_quito|unit_sales|onpromotion| city|    state|cluster|\n",
      "+--------+----------+---------------+--------------+----------+-----------+-----+---------+-------+\n",
      "|88211471|2016-08-16|             44|        103520|       7.0|       true|Quito|Pichincha|      5|\n",
      "|88211472|2016-08-16|             44|        103665|       7.0|      false|Quito|Pichincha|      5|\n",
      "|88211473|2016-08-16|             44|        105574|      13.0|      false|Quito|Pichincha|      5|\n",
      "|88211474|2016-08-16|             44|        105575|      18.0|      false|Quito|Pichincha|      5|\n",
      "|88211475|2016-08-16|             44|        105577|       8.0|      false|Quito|Pichincha|      5|\n",
      "+--------+----------+---------------+--------------+----------+-----------+-----+---------+-------+\n",
      "only showing top 5 rows\n",
      "\n",
      "None\n"
     ]
    }
   ],
   "source": [
    "stores = read_and_format_csv(\n",
    "    'hdfs://namenode:8020/user/root/workspace/pyspark/quito_stores_sample2016-2017.csv',\n",
    "    date_col='date_quito')"
   ]
  },
  {
   "cell_type": "code",
   "execution_count": 7,
   "id": "23acefba",
   "metadata": {},
   "outputs": [
    {
     "name": "stdout",
     "output_type": "stream",
     "text": [
      "Number of rows: 83488\n",
      "root\n",
      " |-- date_trans: date (nullable = true)\n",
      " |-- store_nbr_trans: integer (nullable = true)\n",
      " |-- transactions: integer (nullable = true)\n",
      "\n",
      "None\n",
      "+----------+---------------+------------+\n",
      "|date_trans|store_nbr_trans|transactions|\n",
      "+----------+---------------+------------+\n",
      "|2013-01-01|             25|         770|\n",
      "|2013-01-02|              1|        2111|\n",
      "|2013-01-02|              2|        2358|\n",
      "|2013-01-02|              3|        3487|\n",
      "|2013-01-02|              4|        1922|\n",
      "+----------+---------------+------------+\n",
      "only showing top 5 rows\n",
      "\n",
      "None\n"
     ]
    }
   ],
   "source": [
    "transactions = read_and_format_csv(\n",
    "    'hdfs://namenode:8020/user/root/workspace/pyspark/transactions.csv',\n",
    "    date_col='date_trans')"
   ]
  },
  {
   "cell_type": "markdown",
   "id": "937a8780",
   "metadata": {},
   "source": [
    "## Teilaufgabe 1\n",
    "Summe der `unit_sales` für das Jahr 2017 pro `item_nbr` ==> Summe der `unit_sales` vom Jahr 2017 gruppiert nach `item_nbr_quito`"
   ]
  },
  {
   "cell_type": "code",
   "execution_count": 8,
   "id": "c6c617fd",
   "metadata": {},
   "outputs": [],
   "source": [
    "# Extract the year from date_quito\n",
    "stores = stores.withColumn('year', year('date_quito'))"
   ]
  },
  {
   "cell_type": "code",
   "execution_count": 9,
   "id": "a9bb0f3d",
   "metadata": {},
   "outputs": [
    {
     "name": "stdout",
     "output_type": "stream",
     "text": [
      "+---+----------+---------------+--------------+----------+-----------+----+-----+-------+----+\n",
      "| id|date_quito|store_nbr_quito|item_nbr_quito|unit_sales|onpromotion|city|state|cluster|year|\n",
      "+---+----------+---------------+--------------+----------+-----------+----+-----+-------+----+\n",
      "+---+----------+---------------+--------------+----------+-----------+----+-----+-------+----+\n",
      "\n"
     ]
    }
   ],
   "source": [
    "# Get a subset of year 2017, group it by item_nbr_quito and calculate the sum\n",
    "item_unit_sales = stores.filter(stores['year'] == 2017)\n",
    "item_unit_sales.show(10)"
   ]
  },
  {
   "cell_type": "markdown",
   "id": "bbb40a0d",
   "metadata": {},
   "source": [
    "Da es anscheinend keine Einträge für das Jahr 2017 gibt, werde ich stattdessen das Jahr 2016 benutzen."
   ]
  },
  {
   "cell_type": "code",
   "execution_count": 10,
   "id": "935f7800",
   "metadata": {
    "scrolled": true
   },
   "outputs": [
    {
     "name": "stdout",
     "output_type": "stream",
     "text": [
      "+--------------+---------------+\n",
      "|item_nbr_quito|sum(unit_sales)|\n",
      "+--------------+---------------+\n",
      "|        584129|          0.974|\n",
      "|       1994926|            1.0|\n",
      "|       1094238|            1.0|\n",
      "|        906980|            1.0|\n",
      "|       1937611|            1.0|\n",
      "|       1123722|            1.0|\n",
      "|       2026312|            1.0|\n",
      "|        907686|            1.0|\n",
      "|       1963892|            1.0|\n",
      "|        856687|            1.0|\n",
      "+--------------+---------------+\n",
      "only showing top 10 rows\n",
      "\n"
     ]
    }
   ],
   "source": [
    "item_unit_sales = stores.filter(stores['year'] == 2016)\n",
    "item_unit_sales = item_unit_sales.groupBy('item_nbr_quito').sum('unit_sales').orderBy('sum(unit_sales)')\n",
    "item_unit_sales.show(10)"
   ]
  },
  {
   "cell_type": "markdown",
   "id": "d4a07d3e",
   "metadata": {},
   "source": [
    "## Teilaufgabe 2\n",
    "Anzahl Verkaufsposition pro family ==> Berechnen der Anzahl an `items` pro Familie"
   ]
  },
  {
   "cell_type": "code",
   "execution_count": 11,
   "id": "8f0a6aa1",
   "metadata": {
    "scrolled": true
   },
   "outputs": [
    {
     "name": "stdout",
     "output_type": "stream",
     "text": [
      "+-------------+-----+\n",
      "|       family|count|\n",
      "+-------------+-----+\n",
      "|    GROCERY I| 1334|\n",
      "|    BEVERAGES|  613|\n",
      "|     CLEANING|  446|\n",
      "|      PRODUCE|  306|\n",
      "|        DAIRY|  242|\n",
      "|PERSONAL CARE|  153|\n",
      "| BREAD/BAKERY|  134|\n",
      "|    HOME CARE|  108|\n",
      "|         DELI|   91|\n",
      "|        MEATS|   84|\n",
      "+-------------+-----+\n",
      "only showing top 10 rows\n",
      "\n"
     ]
    }
   ],
   "source": [
    "items_per_family = items.groupBy('family').count().orderBy('count', ascending=False)\n",
    "items_per_family.show(10)"
   ]
  },
  {
   "cell_type": "markdown",
   "id": "55d705f6",
   "metadata": {},
   "source": [
    "## Exercise 3\n",
    "`store_nbr` mit den meisten `unit_sales` ==> Berechnung der `store_nbr_quito` mit den meisten `unit_sales`"
   ]
  },
  {
   "cell_type": "code",
   "execution_count": 12,
   "id": "230d02dd",
   "metadata": {},
   "outputs": [
    {
     "name": "stdout",
     "output_type": "stream",
     "text": [
      "+---------------+-----------------+\n",
      "|store_nbr_quito|  sum(unit_sales)|\n",
      "+---------------+-----------------+\n",
      "|             44|3433300.865999999|\n",
      "+---------------+-----------------+\n",
      "\n"
     ]
    }
   ],
   "source": [
    "best_store = stores.groupBy('store_nbr_quito') \\\n",
    "    .sum('unit_sales') \\\n",
    "    .orderBy('sum(unit_sales)', ascending=False) \\\n",
    "    .limit(1)\n",
    "best_store.show()"
   ]
  },
  {
   "cell_type": "markdown",
   "id": "7634a87e",
   "metadata": {},
   "source": [
    "## Teilaufgabe 4\n",
    "Gibt es ein Muster in den täglichen `unit_sales`? \n",
    "\n",
    "1. Um allgemeine Veränderungen in `unit_sales` zu sehen, werde ich einen Line Plot von allen täglichen `unit_sales` über die gesamte Zeitspanne machen.\n",
    "\n",
    "2. Um herauszufinden ob es eine Korrelation zwischen täglichen `unit_sales` und Wochentagen gibt, werde ich einen Boxplot von täglichen `unit_sales` gruppiert nach Wochentagen erstellen\n",
    "\n",
    "3. Um herauszufinden, ob es eine Korrelation zwischen täglichen `unit_sales` und Feiertagen gibt, werde ich einen Boxplot von `unit_sales` gruppiert nach Feiertagen erstellen\n",
    "\n",
    "Bei obigen Berechnungen werde ich versuchen möglichst viele Berechnungen im Spark Cluster ausführen zu lassen und Resilient Distributed Datasets (RDDs) möglichst spät in pandas DataFrames zu konvertieren. Denn sobald ein RDD in einen pandas DataFrame konvertiert wurde, befindet sich der gesamte Datensatz auf dem Treiber, also auf diesem Juypter Notebook Server, was zu erheblichen Performance Einbüßen führen könnte."
   ]
  },
  {
   "cell_type": "code",
   "execution_count": 13,
   "id": "5b3d7d50",
   "metadata": {},
   "outputs": [
    {
     "name": "stdout",
     "output_type": "stream",
     "text": [
      "   date_quito  sum(unit_sales)\n",
      "0  2016-08-16       168369.373\n",
      "1  2016-08-17       182923.647\n",
      "2  2016-08-18       138728.353\n",
      "3  2016-08-19       181135.568\n",
      "4  2016-08-20       224070.580\n"
     ]
    },
    {
     "data": {
      "text/plain": [
       "<AxesSubplot:xlabel='date_quito'>"
      ]
     },
     "execution_count": 13,
     "metadata": {},
     "output_type": "execute_result"
    },
    {
     "data": {
      "image/png": "[encoded data removed]",
      "text/plain": [
       "<Figure size 432x288 with 1 Axes>"
      ]
     },
     "metadata": {
      "needs_background": "light"
     },
     "output_type": "display_data"
    }
   ],
   "source": [
    "# 1. Plot all daily unit sales\n",
    "daily = stores.groupBy('date_quito') \\\n",
    "    .sum('unit_sales') \\\n",
    "    .orderBy('date_quito', ascending=True) \\\n",
    "    .toPandas()\n",
    "print(daily.head())\n",
    "daily.rename(columns={'sum(unit_sales)': 'daily_unit_sales'}, inplace=True)\n",
    "daily.plot(x='date_quito', y='daily_unit_sales', rot=45)"
   ]
  },
  {
   "cell_type": "markdown",
   "id": "4eb04a2f",
   "metadata": {},
   "source": [
    "Auffälligkeiten: \n",
    "Binnen jedes Monats gibt es 4-5 lokale Minima/Maxima ==> Vielleicht wird an Wochenenden mehr/weniger verkauft als unter der Woche. Ob dies stimmt, werden wir in folgenden Boxplots sehen"
   ]
  },
  {
   "cell_type": "code",
   "execution_count": 14,
   "id": "35888887",
   "metadata": {},
   "outputs": [
    {
     "name": "stdout",
     "output_type": "stream",
     "text": [
      "  date_quito  daily_unit_sales day_of_week\n",
      "0 2016-08-16        168369.373     Tuesday\n",
      "1 2016-08-17        182923.647   Wednesday\n",
      "2 2016-08-18        138728.353    Thursday\n",
      "3 2016-08-19        181135.568      Friday\n",
      "4 2016-08-20        224070.580    Saturday\n"
     ]
    },
    {
     "data": {
      "image/png": "[encoded data removed]",
      "text/plain": [
       "<Figure size 432x288 with 1 Axes>"
      ]
     },
     "metadata": {
      "needs_background": "light"
     },
     "output_type": "display_data"
    }
   ],
   "source": [
    "# 2. Boxplot of unit sales grouped by day of week\n",
    "daily['date_quito'] = pd.to_datetime(daily['date_quito'])\n",
    "daily['day_of_week'] = daily['date_quito'].dt.day_name()\n",
    "print(daily.head())\n",
    "_ = daily.boxplot('daily_unit_sales', by='day_of_week', rot=45)"
   ]
  },
  {
   "cell_type": "markdown",
   "id": "bfd0d006",
   "metadata": {},
   "source": [
    "Hier sieht man auf einmal ganz klar, dass an Wochenenden sehr viel mehr als unter der Woche verkauft wird."
   ]
  },
  {
   "cell_type": "code",
   "execution_count": 15,
   "id": "80d012b6",
   "metadata": {
    "scrolled": false
   },
   "outputs": [
    {
     "name": "stdout",
     "output_type": "stream",
     "text": [
      "Number of common dates: 4\n"
     ]
    },
    {
     "data": {
      "text/plain": [
       "<AxesSubplot:title={'center':'sum(unit_sales)'}, xlabel='type'>"
      ]
     },
     "execution_count": 15,
     "metadata": {},
     "output_type": "execute_result"
    },
    {
     "data": {
      "image/png": "[encoded data removed]",
      "text/plain": [
       "<Figure size 432x288 with 1 Axes>"
      ]
     },
     "metadata": {
      "needs_background": "light"
     },
     "output_type": "display_data"
    }
   ],
   "source": [
    "# 3. Boxplot of daily_unit_sales grouped by holiday\n",
    "daily_unit_sales = stores.groupBy('date_quito').sum('unit_sales')\n",
    "sales_and_holidays = daily_unit_sales.join(\n",
    "    holidays, \n",
    "    daily_unit_sales['date_quito'] == holidays['datum_holi'], \n",
    "    'inner'\n",
    ")\n",
    "print(f'Number of common dates: {sales_and_holidays.count()}')\n",
    "sales_and_holidays.toPandas().boxplot('sum(unit_sales)', by='type', rot=45)"
   ]
  },
  {
   "cell_type": "markdown",
   "id": "227a2a37",
   "metadata": {},
   "source": [
    "Es gibt leider nur 4 Daten, die `daily_unit_sales` und `holidays` gemeinsam haben, und leider sind von diesen 4 Daten alle ein Holiday, also kann man mit dem obigen Boxplot leider nicht die Frage beantworten, ob es eine Korrelation zwischen täglichen `unit_sales` und den `type` von `holidays` gibt.\n",
    "\n",
    "Um zu überprüfen, ob es tatsächlich nur 4 gemeinsame Daten gibt, werde ich die gleiche JOIN Operation zwischen `daily_unit_sales` und `holidays` mit nochmals mit pandas durchführen"
   ]
  },
  {
   "cell_type": "code",
   "execution_count": 16,
   "id": "a64dc051",
   "metadata": {},
   "outputs": [
    {
     "data": {
      "text/plain": [
       "4"
      ]
     },
     "execution_count": 16,
     "metadata": {},
     "output_type": "execute_result"
    }
   ],
   "source": [
    "# Joing daily_unit_sales and holidays as pandas DataFrames\n",
    "daily_unit_sales_df = daily_unit_sales.toPandas()\n",
    "daily_unit_sales_df = daily.rename(columns={'sum(unit_sales)': 'daily_unit_sales'})\n",
    "daily_unit_sales_df['date_quito'] = pd.to_datetime(daily_unit_sales_df['date_quito'])\n",
    "holidays_df = holidays.toPandas()\n",
    "holidays_df['datum_holi'] = pd.to_datetime(holidays_df['datum_holi'])\n",
    "d_and_h = daily_unit_sales_df.merge(holidays_df, left_on='date_quito', right_on='datum_holi', how='inner')\n",
    "len(d_and_h)"
   ]
  },
  {
   "cell_type": "code",
   "execution_count": 17,
   "id": "55efe2b3",
   "metadata": {},
   "outputs": [],
   "source": [
    "# NEVER FORGET to stop the session\n",
    "spark.stop()"
   ]
  }
 ],
 "metadata": {
  "kernelspec": {
   "display_name": "Python 3",
   "language": "python",
   "name": "python3"
  },
  "language_info": {
   "codemirror_mode": {
    "name": "ipython",
    "version": 3
   },
   "file_extension": ".py",
   "mimetype": "text/x-python",
   "name": "python",
   "nbconvert_exporter": "python",
   "pygments_lexer": "ipython3",
   "version": "3.7.10"
  }
 },
 "nbformat": 4,
 "nbformat_minor": 5
}
