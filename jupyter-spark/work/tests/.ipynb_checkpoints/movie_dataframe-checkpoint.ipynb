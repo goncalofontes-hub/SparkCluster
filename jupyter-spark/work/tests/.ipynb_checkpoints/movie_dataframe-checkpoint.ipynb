{
 "cells": [
  {
   "cell_type": "markdown",
   "id": "1711a027",
   "metadata": {},
   "source": [
    "This notebook will show, how to:\n",
    "- Connect to a spark cluster (master node)\n",
    "- Read in a file located in HDFS\n",
    "- Convert that file into a dataframe\n",
    "- Perform an aggregation on that dataframe"
   ]
  },
  {
   "cell_type": "code",
   "execution_count": 1,
   "id": "d3c3f83e",
   "metadata": {},
   "outputs": [],
   "source": [
    "from pyspark.sql import SparkSession\n",
    "from pyspark.sql import Row\n",
    "from pyspark.sql import functions"
   ]
  },
  {
   "cell_type": "code",
   "execution_count": 2,
   "id": "bfbb613b",
   "metadata": {},
   "outputs": [],
   "source": [
    "# Spark session & context\n",
    "spark = SparkSession.builder.master('spark://spark-master:7077').getOrCreate()\n",
    "sc = spark.sparkContext"
   ]
  },
  {
   "cell_type": "code",
   "execution_count": 3,
   "id": "358b8f7e",
   "metadata": {},
   "outputs": [],
   "source": [
    "# Function to parse each row of the movie file\n",
    "def parse_movies(movie):\n",
    "    fields = movie.split('\\t')\n",
    "    return Row(movie_id=int(fields[0]), rating=float(fields[2]))"
   ]
  },
  {
   "cell_type": "code",
   "execution_count": 4,
   "id": "aa93adb9",
   "metadata": {},
   "outputs": [
    {
     "name": "stdout",
     "output_type": "stream",
     "text": [
      "+--------+------+\n",
      "|movie_id|rating|\n",
      "+--------+------+\n",
      "|     196|   3.0|\n",
      "|     186|   3.0|\n",
      "|      22|   1.0|\n",
      "|     244|   2.0|\n",
      "|     166|   1.0|\n",
      "+--------+------+\n",
      "only showing top 5 rows\n",
      "\n"
     ]
    }
   ],
   "source": [
    "# Link to the movie data location\n",
    "movie_file = sc.textFile(\"hdfs://namenode:8020/user/root/playground/ml-100k/u.data\")\n",
    "\n",
    "# Convert it to a RDD of Row objects with (movieID, rating)\n",
    "movie_rdd = movie_file.map(parse_movies)\n",
    "\n",
    "# Convert that to a DataFrame\n",
    "movie_df = spark.createDataFrame(movie_rdd)\n",
    "\n",
    "movie_df.show(5)"
   ]
  },
  {
   "cell_type": "code",
   "execution_count": 5,
   "id": "cc0248e1",
   "metadata": {},
   "outputs": [
    {
     "name": "stdout",
     "output_type": "stream",
     "text": [
      "+--------+------------------+\n",
      "|movie_id|       avg(rating)|\n",
      "+--------+------------------+\n",
      "|      26|  2.94392523364486|\n",
      "|      29|3.6470588235294117|\n",
      "|     474|  4.08256880733945|\n",
      "|     541|3.6240601503759398|\n",
      "|     558|               4.2|\n",
      "+--------+------------------+\n",
      "only showing top 5 rows\n",
      "\n"
     ]
    }
   ],
   "source": [
    "# Compute average rating for each movie_id\n",
    "avg_rating = movie_df.groupBy(\"movie_id\").avg(\"rating\")\n",
    "avg_rating.show(5)"
   ]
  },
  {
   "cell_type": "code",
   "execution_count": 6,
   "id": "de67558f",
   "metadata": {},
   "outputs": [],
   "source": [
    "# Stop the session\n",
    "spark.stop()"
   ]
  }
 ],
 "metadata": {
  "kernelspec": {
   "display_name": "Python 3 (ipykernel)",
   "language": "python",
   "name": "python3"
  },
  "language_info": {
   "codemirror_mode": {
    "name": "ipython",
    "version": 3
   },
   "file_extension": ".py",
   "mimetype": "text/x-python",
   "name": "python",
   "nbconvert_exporter": "python",
   "pygments_lexer": "ipython3",
   "version": "3.7.10"
  }
 },
 "nbformat": 4,
 "nbformat_minor": 5
}
