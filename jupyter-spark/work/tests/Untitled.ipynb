{
 "cells": [
  {
   "cell_type": "code",
   "execution_count": 6,
   "id": "cec28df5",
   "metadata": {},
   "outputs": [
    {
     "name": "stderr",
     "output_type": "stream",
     "text": [
      "                                                                                \r"
     ]
    },
    {
     "data": {
      "text/plain": [
       "5050"
      ]
     },
     "execution_count": 6,
     "metadata": {},
     "output_type": "execute_result"
    },
    {
     "name": "stderr",
     "output_type": "stream",
     "text": [
      "22/06/24 15:51:31 WARN HeartbeatReceiver: Removing executor 2 with no recent heartbeats: 174408 ms exceeds timeout 120000 ms\n",
      "22/06/24 15:51:31 WARN HeartbeatReceiver: Removing executor 1 with no recent heartbeats: 173643 ms exceeds timeout 120000 ms\n",
      "22/06/24 15:51:31 WARN HeartbeatReceiver: Removing executor 0 with no recent heartbeats: 172589 ms exceeds timeout 120000 ms\n",
      "22/06/24 15:51:32 ERROR TaskSchedulerImpl: Lost executor 2 on 172.19.0.3: worker lost\n",
      "22/06/24 15:51:32 ERROR TaskSchedulerImpl: Lost executor 1 on 172.19.0.4: worker lost\n",
      "22/06/24 15:51:32 ERROR TaskSchedulerImpl: Lost executor 0 on 172.19.0.2: worker lost\n",
      "22/06/24 15:51:32 WARN StandaloneSchedulerBackend: Executor to kill 1 does not exist!\n",
      "22/06/24 15:51:32 WARN StandaloneSchedulerBackend: Executor to kill 0 does not exist!\n",
      "22/06/24 16:06:58 WARN HeartbeatReceiver: Removing executor 5 with no recent heartbeats: 687453 ms exceeds timeout 120000 ms\n",
      "22/06/24 16:06:58 WARN HeartbeatReceiver: Removing executor 4 with no recent heartbeats: 681274 ms exceeds timeout 120000 ms\n",
      "22/06/24 16:06:58 WARN HeartbeatReceiver: Removing executor 3 with no recent heartbeats: 688753 ms exceeds timeout 120000 ms\n",
      "22/06/24 16:06:59 ERROR TaskSchedulerImpl: Lost executor 4 on 172.19.0.3: worker lost\n",
      "22/06/24 16:06:59 ERROR TaskSchedulerImpl: Lost executor 3 on 172.19.0.2: worker lost\n",
      "22/06/24 16:06:59 ERROR TaskSchedulerImpl: Lost executor 5 on 172.19.0.4: worker lost\n",
      "22/06/24 16:06:59 WARN StandaloneSchedulerBackend: Executor to kill 4 does not exist!\n",
      "22/06/24 16:06:59 WARN StandaloneSchedulerBackend: Executor to kill 3 does not exist!\n"
     ]
    }
   ],
   "source": [
    "from pyspark.sql import SparkSession\n",
    "\n",
    "# Spark session & context\n",
    "spark = SparkSession.builder.master('spark://spark-master:7077').getOrCreate() # spark://spark-master:7077\n",
    "sc = spark.sparkContext\n",
    "\n",
    "# Sum of the first 100 whole numbers\n",
    "rdd = sc.parallelize(range(100 + 1))\n",
    "rdd.sum()\n",
    "# 5050"
   ]
  },
  {
   "cell_type": "code",
   "execution_count": null,
   "id": "caab678e",
   "metadata": {},
   "outputs": [],
   "source": []
  }
 ],
 "metadata": {
  "kernelspec": {
   "display_name": "Python 3 (ipykernel)",
   "language": "python",
   "name": "python3"
  },
  "language_info": {
   "codemirror_mode": {
    "name": "ipython",
    "version": 3
   },
   "file_extension": ".py",
   "mimetype": "text/x-python",
   "name": "python",
   "nbconvert_exporter": "python",
   "pygments_lexer": "ipython3",
   "version": "3.7.10"
  }
 },
 "nbformat": 4,
 "nbformat_minor": 5
}
