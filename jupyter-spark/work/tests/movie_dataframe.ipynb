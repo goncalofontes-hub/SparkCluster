{
 "cells": [
  {
   "cell_type": "markdown",
   "id": "1711a027",
   "metadata": {},
   "source": [
    "This notebook will show, how to:\n",
    "- Connect to a spark cluster (master node)\n",
    "- Read in a file located in HDFS\n",
    "- Convert that file into a dataframe\n",
    "- Perform an aggregation on that dataframe"
   ]
  },
  {
   "cell_type": "code",
   "execution_count": 1,
   "id": "d3c3f83e",
   "metadata": {},
   "outputs": [],
   "source": [
    "from pyspark.sql import SparkSession\n",
    "from pyspark.sql import Row\n",
    "from pyspark.sql import functions"
   ]
  },
  {
   "cell_type": "code",
   "execution_count": 2,
   "id": "bfbb613b",
   "metadata": {},
   "outputs": [
    {
     "name": "stderr",
     "output_type": "stream",
     "text": [
      "WARNING: An illegal reflective access operation has occurred\n",
      "WARNING: Illegal reflective access by org.apache.spark.unsafe.Platform (file:/usr/local/spark-3.1.1-bin-hadoop3.2/jars/spark-unsafe_2.12-3.1.1.jar) to constructor java.nio.DirectByteBuffer(long,int)\n",
      "WARNING: Please consider reporting this to the maintainers of org.apache.spark.unsafe.Platform\n",
      "WARNING: Use --illegal-access=warn to enable warnings of further illegal reflective access operations\n",
      "WARNING: All illegal access operations will be denied in a future release\n",
      "21/11/11 12:42:28 WARN NativeCodeLoader: Unable to load native-hadoop library for your platform... using builtin-java classes where applicable\n",
      "Using Spark's default log4j profile: org/apache/spark/log4j-defaults.properties\n",
      "Setting default log level to \"WARN\".\n",
      "To adjust logging level use sc.setLogLevel(newLevel). For SparkR, use setLogLevel(newLevel).\n"
     ]
    }
   ],
   "source": [
    "# Spark session & context\n",
    "spark = SparkSession.builder.master('spark://spark-master:7077').getOrCreate()\n",
    "sc = spark.sparkContext"
   ]
  },
  {
   "cell_type": "code",
   "execution_count": 3,
   "id": "358b8f7e",
   "metadata": {},
   "outputs": [],
   "source": [
    "# Function to parse each row of the movie file\n",
    "def parse_movies(movie):\n",
    "    fields = movie.split('\\t')\n",
    "    return Row(movie_id=int(fields[0]), rating=float(fields[2]))"
   ]
  },
  {
   "cell_type": "code",
   "execution_count": 4,
   "id": "aa93adb9",
   "metadata": {},
   "outputs": [
    {
     "name": "stderr",
     "output_type": "stream",
     "text": [
      "[Stage 1:>                                                          (0 + 1) / 1]\r"
     ]
    },
    {
     "name": "stdout",
     "output_type": "stream",
     "text": [
      "+--------+------+\n",
      "|movie_id|rating|\n",
      "+--------+------+\n",
      "|     196|   3.0|\n",
      "|     186|   3.0|\n",
      "|      22|   1.0|\n",
      "|     244|   2.0|\n",
      "|     166|   1.0|\n",
      "+--------+------+\n",
      "only showing top 5 rows\n",
      "\n"
     ]
    },
    {
     "name": "stderr",
     "output_type": "stream",
     "text": [
      "\r",
      "                                                                                \r"
     ]
    }
   ],
   "source": [
    "# Link to the movie data location\n",
    "movie_file = sc.textFile(\"hdfs://namenode:8020/user/root/playground/ml-100k/u.data\")\n",
    "\n",
    "# Convert it to a RDD of Row objects with (movieID, rating)\n",
    "movie_rdd = movie_file.map(parse_movies)\n",
    "\n",
    "# Convert that to a DataFrame\n",
    "movie_df = spark.createDataFrame(movie_rdd)\n",
    "\n",
    "movie_df.show(5)"
   ]
  },
  {
   "cell_type": "code",
   "execution_count": 5,
   "id": "cc0248e1",
   "metadata": {},
   "outputs": [
    {
     "name": "stderr",
     "output_type": "stream",
     "text": [
      "                                                                                \r"
     ]
    },
    {
     "name": "stdout",
     "output_type": "stream",
     "text": [
      "+--------+------------------+\n",
      "|movie_id|       avg(rating)|\n",
      "+--------+------------------+\n",
      "|      26|  2.94392523364486|\n",
      "|     474|  4.08256880733945|\n",
      "|      29|3.6470588235294117|\n",
      "|     191|3.6296296296296298|\n",
      "|      65|            3.9375|\n",
      "+--------+------------------+\n",
      "only showing top 5 rows\n",
      "\n"
     ]
    }
   ],
   "source": [
    "# Compute average rating for each movie_id\n",
    "avg_rating = movie_df.groupBy(\"movie_id\").avg(\"rating\")\n",
    "avg_rating.show(5)"
   ]
  },
  {
   "cell_type": "code",
   "execution_count": 6,
   "id": "de67558f",
   "metadata": {},
   "outputs": [],
   "source": [
    "# Stop the session\n",
    "spark.stop()"
   ]
  }
 ],
 "metadata": {
  "kernelspec": {
   "display_name": "Python 3 (ipykernel)",
   "language": "python",
   "name": "python3"
  },
  "language_info": {
   "codemirror_mode": {
    "name": "ipython",
    "version": 3
   },
   "file_extension": ".py",
   "mimetype": "text/x-python",
   "name": "python",
   "nbconvert_exporter": "python",
   "pygments_lexer": "ipython3",
   "version": "3.7.10"
  }
 },
 "nbformat": 4,
 "nbformat_minor": 5
}
